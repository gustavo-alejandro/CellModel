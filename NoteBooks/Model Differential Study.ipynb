{
 "cells": [
  {
   "cell_type": "code",
   "execution_count": 1,
   "metadata": {},
   "outputs": [
    {
     "data": {
      "text/plain": [
       "'C:\\\\Python Files\\\\AluminaConcEstimator\\\\NoteBooks'"
      ]
     },
     "execution_count": 1,
     "metadata": {},
     "output_type": "execute_result"
    }
   ],
   "source": [
    "pwd"
   ]
  },
  {
   "cell_type": "code",
   "execution_count": 2,
   "metadata": {},
   "outputs": [],
   "source": [
    "import sys\n",
    "sys.path.append('../')"
   ]
  },
  {
   "cell_type": "code",
   "execution_count": 3,
   "metadata": {},
   "outputs": [],
   "source": [
    "# Do imports first using selected modules only\n",
    "import Model as Mod\n",
    "import numpy as np\n",
    "import ObservationSimulation as ObSim\n",
    "import matplotlib.pyplot as plt"
   ]
  },
  {
   "cell_type": "code",
   "execution_count": 4,
   "metadata": {},
   "outputs": [],
   "source": [
    "# define ranges of interest for dissolved and undissolved alumina\n",
    "cdmax = 8    # maximum alumina content of 8%\n",
    "cdmin = 2    # minimum alumina content of 2%\n",
    "cunmax = 6   # maximum undisolved alumina content of 6%\n",
    "cunmin = 0   # minimum undisolved alumina content of 0%"
   ]
  },
  {
   "cell_type": "code",
   "execution_count": 5,
   "metadata": {},
   "outputs": [],
   "source": [
    "# only going to do a single timestep, so make it decent one\n",
    "dt = 10\n",
    "# examine the increments on 60 increments\n",
    "ninc = 60"
   ]
  },
  {
   "cell_type": "code",
   "execution_count": 6,
   "metadata": {},
   "outputs": [],
   "source": [
    "# define the model equations for the single timestep\n",
    "(F, G, H, B) = Mod.StateEquations(dt)"
   ]
  },
  {
   "cell_type": "code",
   "execution_count": 7,
   "metadata": {},
   "outputs": [],
   "source": [
    "# initial vectors - note the intention is to study x so\n",
    "# we will use a fixed/constant u\n",
    "x0 = np.array([[3.5], [0.5], [2.9193]])\n",
    "u0 = np.array([[126000], [0.0], [0.0]])"
   ]
  },
  {
   "cell_type": "code",
   "execution_count": 9,
   "metadata": {},
   "outputs": [],
   "source": [
    "# initialise u array to receive a copy of the constant u0\n",
    "dims = np.shape(u0)\n",
    "udim = dims[0]\n",
    "uconst = np.zeros((ninc+1, udim, 1))\n",
    "uconst[0] = u0"
   ]
  },
  {
   "cell_type": "code",
   "execution_count": 10,
   "metadata": {},
   "outputs": [],
   "source": [
    "# Initialise x arrays to explore the x1 and x2 characteristics\n",
    "dims = np.shape(x0)\n",
    "xdim = dims[0]\n",
    "# independent flex over x1 for default x2 and vice versa\n",
    "x1low = np.copy(x0)\n",
    "x1low[0] = cdmin        #note this means that the undissolved will retain the x0[1] value above\n",
    "x2low = np.copy(x0)\n",
    "x2low[1] = cunmin       #note this means that the dissolved will retain the x0[0] value above"
   ]
  },
  {
   "cell_type": "code",
   "execution_count": 11,
   "metadata": {},
   "outputs": [
    {
     "data": {
      "text/plain": [
       "array([[2.    ],\n",
       "       [0.5   ],\n",
       "       [2.9193]])"
      ]
     },
     "execution_count": 11,
     "metadata": {},
     "output_type": "execute_result"
    }
   ],
   "source": [
    "x1low"
   ]
  },
  {
   "cell_type": "code",
   "execution_count": 12,
   "metadata": {},
   "outputs": [
    {
     "data": {
      "text/plain": [
       "array([[3.5   ],\n",
       "       [0.    ],\n",
       "       [2.9193]])"
      ]
     },
     "execution_count": 12,
     "metadata": {},
     "output_type": "execute_result"
    }
   ],
   "source": [
    "x2low"
   ]
  },
  {
   "cell_type": "code",
   "execution_count": 13,
   "metadata": {},
   "outputs": [],
   "source": [
    "# create two arrays for x1 spanning dissolved range, the second array will have the result of single timestep\n",
    "x1 = np.zeros((ninc+1, xdim, 1))\n",
    "x1dt = np.zeros((ninc+1, xdim, 1))\n",
    "x1[0] = x1low\n",
    "x1dt[0] = F @ x1[0] + B @ uconst[0]"
   ]
  },
  {
   "cell_type": "code",
   "execution_count": 14,
   "metadata": {},
   "outputs": [
    {
     "data": {
      "text/plain": [
       "array([[2.    ],\n",
       "       [0.5   ],\n",
       "       [2.9193]])"
      ]
     },
     "execution_count": 14,
     "metadata": {},
     "output_type": "execute_result"
    }
   ],
   "source": [
    "x1[0]"
   ]
  },
  {
   "cell_type": "code",
   "execution_count": 15,
   "metadata": {},
   "outputs": [
    {
     "data": {
      "text/plain": [
       "array([[1.99834964],\n",
       "       [0.49      ],\n",
       "       [2.9192585 ]])"
      ]
     },
     "execution_count": 15,
     "metadata": {},
     "output_type": "execute_result"
    }
   ],
   "source": [
    "x1dt[0]"
   ]
  },
  {
   "cell_type": "code",
   "execution_count": 16,
   "metadata": {},
   "outputs": [],
   "source": [
    "# create two arrays for x2 spanning undissolved range, the second array will have the result of single timestep\n",
    "x2 = np.zeros((ninc+1, xdim, 1))\n",
    "x2dt = np.zeros((ninc+1, xdim, 1))\n",
    "x2[0] = x2low\n",
    "x2dt[0] = F @ x2[0] + B @ uconst[0]"
   ]
  },
  {
   "cell_type": "code",
   "execution_count": 17,
   "metadata": {},
   "outputs": [
    {
     "data": {
      "text/plain": [
       "array([[3.5   ],\n",
       "       [0.    ],\n",
       "       [2.9193]])"
      ]
     },
     "execution_count": 17,
     "metadata": {},
     "output_type": "execute_result"
    }
   ],
   "source": [
    "x2[0]"
   ]
  },
  {
   "cell_type": "code",
   "execution_count": 18,
   "metadata": {},
   "outputs": [
    {
     "data": {
      "text/plain": [
       "array([[3.48834964],\n",
       "       [0.        ],\n",
       "       [2.9192585 ]])"
      ]
     },
     "execution_count": 18,
     "metadata": {},
     "output_type": "execute_result"
    }
   ],
   "source": [
    "x2dt[0]"
   ]
  },
  {
   "cell_type": "code",
   "execution_count": 19,
   "metadata": {},
   "outputs": [],
   "source": [
    "# independent increments over x1 and x2 span\n",
    "x1inc = np.array([[(cdmax-cdmin)/ninc], [0.0], [0.0]])\n",
    "x2inc = np.array([[0.0], [(cunmax-cunmin)/ninc], [0.0]])"
   ]
  },
  {
   "cell_type": "code",
   "execution_count": 20,
   "metadata": {},
   "outputs": [
    {
     "data": {
      "text/plain": [
       "array([[0.1],\n",
       "       [0. ],\n",
       "       [0. ]])"
      ]
     },
     "execution_count": 20,
     "metadata": {},
     "output_type": "execute_result"
    }
   ],
   "source": [
    "x1inc"
   ]
  },
  {
   "cell_type": "code",
   "execution_count": 21,
   "metadata": {},
   "outputs": [
    {
     "data": {
      "text/plain": [
       "array([[0. ],\n",
       "       [0.1],\n",
       "       [0. ]])"
      ]
     },
     "execution_count": 21,
     "metadata": {},
     "output_type": "execute_result"
    }
   ],
   "source": [
    "x2inc"
   ]
  },
  {
   "cell_type": "code",
   "execution_count": 23,
   "metadata": {},
   "outputs": [],
   "source": [
    "for i in range(ninc):\n",
    "    # for each increment generate span in x1 or x2 - noting that initial values of i=0 already defined above\n",
    "    x1[i+1] = x1[i] + x1inc\n",
    "    x2[i+1] = x2[i] + x2inc\n",
    "    # hold inputs constant across the spans\n",
    "    uconst[i+1] = u0\n",
    "    # apply transformation for one timestep across each span\n",
    "    x1dt[i+1] = F @ x1[i+1] + B @ uconst[i+1]\n",
    "    x2dt[i+1] = F @ x2[i+1] + B @ uconst[i+1]"
   ]
  },
  {
   "cell_type": "code",
   "execution_count": 24,
   "metadata": {},
   "outputs": [],
   "source": [
    "# transform state-spans to z with no noise and no plot\n",
    "z1 = ObSim.obs(x1, uconst, H, 0, dt, False)\n",
    "z1dt = ObSim.obs(x1dt, uconst, H, 0, dt, False)\n",
    "z2 = ObSim.obs(x2, uconst, H, 0, dt, False)\n",
    "z2dt = ObSim.obs(x2dt, uconst, H, 0, dt, False)"
   ]
  },
  {
   "cell_type": "code",
   "execution_count": 25,
   "metadata": {},
   "outputs": [],
   "source": [
    "# differential on one timestep\n",
    "z1delta = z1dt-z1\n",
    "z2delta = z2dt-z2"
   ]
  },
  {
   "cell_type": "code",
   "execution_count": 34,
   "metadata": {},
   "outputs": [
    {
     "data": {
      "text/plain": [
       "<matplotlib.legend.Legend at 0x1540e739880>"
      ]
     },
     "execution_count": 34,
     "metadata": {},
     "output_type": "execute_result"
    },
    {
     "data": {
      "image/png": "[encoded data removed]",
      "text/plain": [
       "<Figure size 432x288 with 2 Axes>"
      ]
     },
     "metadata": {
      "needs_background": "light"
     },
     "output_type": "display_data"
    }
   ],
   "source": [
    "# plot results across the span of dissolved alumina\n",
    "steplabel = '{0:d} sec timestep'\n",
    "labelstr = steplabel.format(dt)\n",
    "fig, dissolved = plt.subplots()\n",
    "dissolved.plot(x1[:, 0, 0], z1[:, 0, 0], label='Instantaneous')\n",
    "dissolved.plot(x1dt[:, 0, 0], z1dt[:, 0, 0], label=labelstr)\n",
    "dissolved.set_xlabel('Dissolved Alumina Content (wt%)')\n",
    "dissolved.set_ylabel('Vcell (Volts)')\n",
    "dissolved.set_title(\"VCell Dependency on Dissolved Alumina (Undissolved 0.5%)\")\n",
    "difcolour = 'tab:red'\n",
    "disdelta = dissolved.twinx()\n",
    "disdelta.plot(x1[:, 0, 0], z1delta[:, 0, 0], label='Differential', color = difcolour)\n",
    "dissolved.legend(loc='center')\n",
    "disdelta.legend(loc='center right')"
   ]
  },
  {
   "cell_type": "code",
   "execution_count": 35,
   "metadata": {},
   "outputs": [
    {
     "data": {
      "text/plain": [
       "<matplotlib.legend.Legend at 0x1540e7da5b0>"
      ]
     },
     "execution_count": 35,
     "metadata": {},
     "output_type": "execute_result"
    },
    {
     "data": {
      "image/png": "[encoded data removed]",
      "text/plain": [
       "<Figure size 432x288 with 2 Axes>"
      ]
     },
     "metadata": {
      "needs_background": "light"
     },
     "output_type": "display_data"
    }
   ],
   "source": [
    "fig, undissolved = plt.subplots()\n",
    "undissolved.plot(x2[:, 1, 0], z2[:, 0, 0], label='Instantaneous')\n",
    "undissolved.plot(x2dt[:, 1, 0], z2dt[:, 0, 0], label=labelstr)\n",
    "undissolved.set_xlabel('UnDissolved Alumina Content (wt%)')\n",
    "undissolved.set_ylabel('Vcell (Volts)')\n",
    "undissolved.set_title(\"VCell Dependency - UnDissolved Alumina (Dissolved 3.5%)\")\n",
    "difcolour = 'tab:red'\n",
    "undisdelta = undissolved.twinx()\n",
    "undisdelta.plot(x2[:, 1, 0], z2delta[:, 0, 0], label='Differential', color = difcolour)\n",
    "undissolved.legend(loc='upper center')\n",
    "undisdelta.legend(loc='upper right')"
   ]
  },
  {
   "cell_type": "code",
   "execution_count": null,
   "metadata": {},
   "outputs": [],
   "source": []
  }
 ],
 "metadata": {
  "kernelspec": {
   "display_name": "Python 3",
   "language": "python",
   "name": "python3"
  },
  "language_info": {
   "codemirror_mode": {
    "name": "ipython",
    "version": 3
   },
   "file_extension": ".py",
   "mimetype": "text/x-python",
   "name": "python",
   "nbconvert_exporter": "python",
   "pygments_lexer": "ipython3",
   "version": "3.8.5"
  }
 },
 "nbformat": 4,
 "nbformat_minor": 4
}
