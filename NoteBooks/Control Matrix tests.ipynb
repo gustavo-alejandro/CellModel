{
 "cells": [
  {
   "cell_type": "code",
   "execution_count": 1,
   "id": "ad048d65-2ba9-42a5-8d15-04a1345b7f61",
   "metadata": {},
   "outputs": [],
   "source": [
    "import numpy as np"
   ]
  },
  {
   "cell_type": "code",
   "execution_count": 2,
   "id": "4ce9edbb-9fd2-4091-a8bd-c5b82c4ea158",
   "metadata": {},
   "outputs": [
    {
     "data": {
      "text/plain": [
       "'C:\\\\Python Files\\\\AluminaConcEstimator\\\\NoteBooks'"
      ]
     },
     "execution_count": 2,
     "metadata": {},
     "output_type": "execute_result"
    }
   ],
   "source": [
    "pwd"
   ]
  },
  {
   "cell_type": "code",
   "execution_count": 3,
   "id": "3cc9bf84-0486-4e4b-b967-7da1217278a8",
   "metadata": {},
   "outputs": [],
   "source": [
    "import sys\n",
    "sys.path.append('../')"
   ]
  },
  {
   "cell_type": "code",
   "execution_count": 4,
   "id": "ba8d6556-27c2-40a9-923e-06923e0a59e3",
   "metadata": {},
   "outputs": [],
   "source": [
    "from Refactor.Properties import ValidProperty, CellProperties\n",
    "from Refactor.Model import VariableVector, ControlMatrix, clone_vector\n",
    "from Refactor.CellVoltage import VIcell\n",
    "from numpy.linalg import inv\n",
    "from scipy.linalg import cholesky, LinAlgError"
   ]
  },
  {
   "cell_type": "code",
   "execution_count": 5,
   "id": "dbfebdcb-dac2-48d1-b2e3-9a894955bf0c",
   "metadata": {},
   "outputs": [],
   "source": [
    "import Global as Glob\n",
    "# Use global defaults\n",
    "kdiss = 0.002 # Glob.kdiss\n",
    "MAlumina = Glob.MAlumina\n",
    "CE = Glob.CE\n",
    "Faraday = Glob.Faraday\n",
    "z = Glob.z\n",
    "m = Glob.m\n",
    "r = 0.6 # Glob.r\n",
    "dcon = Glob.dcon\n",
    "daccum = Glob.daccum"
   ]
  },
  {
   "cell_type": "code",
   "execution_count": 6,
   "id": "5ed722aa-0c97-482f-a37d-0218acc00020",
   "metadata": {},
   "outputs": [
    {
     "data": {
      "text/plain": [
       "True"
      ]
     },
     "execution_count": 6,
     "metadata": {},
     "output_type": "execute_result"
    }
   ],
   "source": [
    "F = ControlMatrix(3, 3, 1)\n",
    "F.set_array_layer(0, np.array([[1.0, 0.0, 0.0], [0.0, 1.0, 0.0], [0.0, 0.0, 1.0]]))"
   ]
  },
  {
   "cell_type": "code",
   "execution_count": 7,
   "id": "18e3eb1b-ca7a-4bcb-a223-10fe819aa5f9",
   "metadata": {},
   "outputs": [
    {
     "data": {
      "text/plain": [
       "array([[[1., 0., 0.],\n",
       "        [0., 1., 0.],\n",
       "        [0., 0., 1.]],\n",
       "\n",
       "       [[0., 0., 0.],\n",
       "        [0., 0., 0.],\n",
       "        [0., 0., 0.]]])"
      ]
     },
     "execution_count": 7,
     "metadata": {},
     "output_type": "execute_result"
    }
   ],
   "source": [
    "F.array_display"
   ]
  },
  {
   "cell_type": "code",
   "execution_count": 8,
   "id": "e61cfb7d-6fe3-4adb-8b0b-c9e6c2466ff7",
   "metadata": {},
   "outputs": [
    {
     "data": {
      "text/plain": [
       "True"
      ]
     },
     "execution_count": 8,
     "metadata": {},
     "output_type": "execute_result"
    }
   ],
   "source": [
    "F.set_array_layer(1, np.array([[0.0, kdiss, 0.0], [0.0, -kdiss, 0.0], [0.0, 0.0, 0.0]]))"
   ]
  },
  {
   "cell_type": "code",
   "execution_count": 9,
   "id": "661cac67-2424-452c-9163-61b6d47848cd",
   "metadata": {},
   "outputs": [
    {
     "data": {
      "text/plain": [
       "array([[[ 1.   ,  0.   ,  0.   ],\n",
       "        [ 0.   ,  1.   ,  0.   ],\n",
       "        [ 0.   ,  0.   ,  1.   ]],\n",
       "\n",
       "       [[ 0.   ,  0.002,  0.   ],\n",
       "        [ 0.   , -0.002,  0.   ],\n",
       "        [ 0.   ,  0.   ,  0.   ]]])"
      ]
     },
     "execution_count": 9,
     "metadata": {},
     "output_type": "execute_result"
    }
   ],
   "source": [
    "F.array_display"
   ]
  },
  {
   "cell_type": "code",
   "execution_count": 10,
   "id": "5ed9fc21-6a9b-4c53-9077-9a75cfb5c4bd",
   "metadata": {},
   "outputs": [
    {
     "data": {
      "text/plain": [
       "array([[1.  , 0.01, 0.  ],\n",
       "       [0.  , 0.99, 0.  ],\n",
       "       [0.  , 0.  , 1.  ]])"
      ]
     },
     "execution_count": 10,
     "metadata": {},
     "output_type": "execute_result"
    }
   ],
   "source": [
    "F.array_eval(5)"
   ]
  },
  {
   "cell_type": "code",
   "execution_count": 11,
   "id": "b9cf0c19-04b5-4025-ac28-40a88e52573b",
   "metadata": {},
   "outputs": [
    {
     "data": {
      "text/plain": [
       "True"
      ]
     },
     "execution_count": 11,
     "metadata": {},
     "output_type": "execute_result"
    }
   ],
   "source": [
    "G = ControlMatrix(3, 3, 1)\n",
    "G.set_array_layer(0, np.array([[0.0, 0.0, 0.0], [0.0, 0.0, 0.0], [0.0, 0.0, 0.0]]))\n",
    "G.set_array_layer(1, np.array([[1.0, 0.0, 0.0], [0.0, 1.0, 0.0], [0.0, 0.0, 1.0]]))"
   ]
  },
  {
   "cell_type": "code",
   "execution_count": 12,
   "id": "8eef41be-fbdb-424c-8873-2b8ff32271bf",
   "metadata": {},
   "outputs": [
    {
     "data": {
      "text/plain": [
       "array([[[0., 0., 0.],\n",
       "        [0., 0., 0.],\n",
       "        [0., 0., 0.]],\n",
       "\n",
       "       [[1., 0., 0.],\n",
       "        [0., 1., 0.],\n",
       "        [0., 0., 1.]]])"
      ]
     },
     "execution_count": 12,
     "metadata": {},
     "output_type": "execute_result"
    }
   ],
   "source": [
    "G.array_display"
   ]
  },
  {
   "cell_type": "code",
   "execution_count": 13,
   "id": "fde3446e-98c6-400d-9e7a-e8630b72a9a1",
   "metadata": {},
   "outputs": [
    {
     "data": {
      "text/plain": [
       "array([[5., 0., 0.],\n",
       "       [0., 5., 0.],\n",
       "       [0., 0., 5.]])"
      ]
     },
     "execution_count": 13,
     "metadata": {},
     "output_type": "execute_result"
    }
   ],
   "source": [
    "G.array_eval(5)"
   ]
  },
  {
   "cell_type": "code",
   "execution_count": 14,
   "id": "e1297aa3-8ece-4a45-80f1-643b461c4412",
   "metadata": {},
   "outputs": [
    {
     "data": {
      "text/plain": [
       "True"
      ]
     },
     "execution_count": 14,
     "metadata": {},
     "output_type": "execute_result"
    }
   ],
   "source": [
    "B = ControlMatrix(3, 3, 1)\n",
    "B.set_array_layer(0, np.array([[0.0, 100*(1-r)/m, 0.0], [0.0, 100*r/m, 0.0], [0.0, 0.0, 1.0]]))\n",
    "B.set_array_layer(1, np.array([[-MAlumina*CE/(10*Faraday*z*m), 0.0, 0.0], [0.0, 0.0, 0.0], [(dcon-daccum), 0.0, 0.0]]))"
   ]
  },
  {
   "cell_type": "code",
   "execution_count": 15,
   "id": "a24b1673-1da8-400b-a478-4657574ea68d",
   "metadata": {},
   "outputs": [
    {
     "data": {
      "text/plain": [
       "array([[[ 0.00000000e+00,  2.22222222e-02,  0.00000000e+00],\n",
       "        [ 0.00000000e+00,  3.33333333e-02,  0.00000000e+00],\n",
       "        [ 0.00000000e+00,  0.00000000e+00,  1.00000000e+00]],\n",
       "\n",
       "       [[-9.24631986e-09,  0.00000000e+00,  0.00000000e+00],\n",
       "        [ 0.00000000e+00,  0.00000000e+00,  0.00000000e+00],\n",
       "        [-3.29380764e-11,  0.00000000e+00,  0.00000000e+00]]])"
      ]
     },
     "execution_count": 15,
     "metadata": {},
     "output_type": "execute_result"
    }
   ],
   "source": [
    "B.array_display"
   ]
  },
  {
   "cell_type": "code",
   "execution_count": 16,
   "id": "d4b167f2-d0f4-48eb-862b-03e6899de5a7",
   "metadata": {},
   "outputs": [
    {
     "data": {
      "text/plain": [
       "array([[-4.62315993e-08,  2.22222222e-02,  0.00000000e+00],\n",
       "       [ 0.00000000e+00,  3.33333333e-02,  0.00000000e+00],\n",
       "       [-1.64690382e-10,  0.00000000e+00,  1.00000000e+00]])"
      ]
     },
     "execution_count": 16,
     "metadata": {},
     "output_type": "execute_result"
    }
   ],
   "source": [
    "B.array_eval(5)"
   ]
  },
  {
   "cell_type": "code",
   "execution_count": 17,
   "id": "775592cd-62dd-4864-bc22-b00755926f42",
   "metadata": {},
   "outputs": [
    {
     "data": {
      "text/plain": [
       "array([[[4.e-08, 0.e+00, 0.e+00],\n",
       "        [0.e+00, 4.e-08, 0.e+00],\n",
       "        [0.e+00, 0.e+00, 1.e-14]]])"
      ]
     },
     "execution_count": 17,
     "metadata": {},
     "output_type": "execute_result"
    }
   ],
   "source": [
    "# Define the UKF noise standard deviations\n",
    "q1dstd = 0.0002    # alumina concentration variation\n",
    "q1ustd = 0.0002    # undisolved alumina concentration variation\n",
    "q2std = 0.0000001  # acd varation needs to be much lower\n",
    "Q = ControlMatrix(3, 3, 0)\n",
    "Q.set_array_layer(0, np.array([[q1dstd**2, 0.0, 0.0], [0.0, q1ustd**2, 0.0], [0.0, 0.0, q2std**2]]))\n",
    "Q.array_display"
   ]
  },
  {
   "cell_type": "code",
   "execution_count": 18,
   "id": "927636e8-92b9-4c6f-9aa8-f0f9e13e4a7d",
   "metadata": {},
   "outputs": [
    {
     "data": {
      "text/plain": [
       "array([[[1.e-06]]])"
      ]
     },
     "execution_count": 18,
     "metadata": {},
     "output_type": "execute_result"
    }
   ],
   "source": [
    "rstd = 0.0010      # measurement variation (volts)\n",
    "R = ControlMatrix(1, 1, 0)\n",
    "R.set_array_layer(0, np.array([[rstd**2]]))\n",
    "R.array_display"
   ]
  },
  {
   "cell_type": "code",
   "execution_count": 19,
   "id": "17f504d6-3fcc-49ea-8699-d3bf4cd89467",
   "metadata": {},
   "outputs": [
    {
     "data": {
      "text/plain": [
       "{'cAl2O3': 0, 'uAl2O3': 1, 'ACD': 2}"
      ]
     },
     "execution_count": 19,
     "metadata": {},
     "output_type": "execute_result"
    }
   ],
   "source": [
    "# Create a State Vector Variables\n",
    "x0 = VariableVector(cAl2O3=3.5, uAl2O3=0.5, ACD= 2.9193)\n",
    "x0.dictionary"
   ]
  },
  {
   "cell_type": "code",
   "execution_count": 20,
   "id": "67c423f6-c17c-4e4c-86fa-337442850fe1",
   "metadata": {},
   "outputs": [
    {
     "data": {
      "text/plain": [
       "array([[3.5   ],\n",
       "       [0.5   ],\n",
       "       [2.9193]])"
      ]
     },
     "execution_count": 20,
     "metadata": {},
     "output_type": "execute_result"
    }
   ],
   "source": [
    "x0.vector"
   ]
  },
  {
   "cell_type": "code",
   "execution_count": 21,
   "id": "b72d71e6-46b4-40be-8d4f-5824cdff5d08",
   "metadata": {},
   "outputs": [
    {
     "data": {
      "text/plain": [
       "{'I': 0, 'g': 1, 'B': 2}"
      ]
     },
     "execution_count": 21,
     "metadata": {},
     "output_type": "execute_result"
    }
   ],
   "source": [
    "# Create Input Vector Variables\n",
    "u0 = VariableVector(I=126000.0, g=0.0, B=0.0)\n",
    "u0.dictionary"
   ]
  },
  {
   "cell_type": "code",
   "execution_count": 22,
   "id": "3e963ee0-7160-44fd-ae28-323758a2a44b",
   "metadata": {},
   "outputs": [
    {
     "data": {
      "text/plain": [
       "array([[126000.],\n",
       "       [     0.],\n",
       "       [     0.]])"
      ]
     },
     "execution_count": 22,
     "metadata": {},
     "output_type": "execute_result"
    }
   ],
   "source": [
    "u0.vector"
   ]
  },
  {
   "cell_type": "code",
   "execution_count": 23,
   "id": "42ecfc62-141e-4f21-b10a-d72dcf4fe1e6",
   "metadata": {},
   "outputs": [
    {
     "data": {
      "text/plain": [
       "{'Vcell': 0}"
      ]
     },
     "execution_count": 23,
     "metadata": {},
     "output_type": "execute_result"
    }
   ],
   "source": [
    "# Create Measurement Vector Variables\n",
    "z0 = VariableVector(Vcell=4.465858)\n",
    "z0.dictionary"
   ]
  },
  {
   "cell_type": "code",
   "execution_count": 24,
   "id": "d4b0e663-b7e2-4bf5-b23c-78e9502729d0",
   "metadata": {},
   "outputs": [
    {
     "data": {
      "text/plain": [
       "array([[4.465858]])"
      ]
     },
     "execution_count": 24,
     "metadata": {},
     "output_type": "execute_result"
    }
   ],
   "source": [
    "z0.vector"
   ]
  },
  {
   "cell_type": "code",
   "execution_count": 25,
   "id": "40b41132-37ac-44d9-ab3c-1fe09090e8af",
   "metadata": {},
   "outputs": [],
   "source": [
    "from Refactor.UKFClass import DiscreteModel"
   ]
  },
  {
   "cell_type": "code",
   "execution_count": 26,
   "id": "d6a32e87-b803-45b0-809d-f482bf8a8324",
   "metadata": {},
   "outputs": [],
   "source": [
    "alumina3state = DiscreteModel(F, B, G, Q, R, z0, u0, x0)"
   ]
  },
  {
   "cell_type": "code",
   "execution_count": 27,
   "id": "6b235c28-0cde-4c29-bce1-ba8cfc42203b",
   "metadata": {},
   "outputs": [
    {
     "data": {
      "text/plain": [
       "True"
      ]
     },
     "execution_count": 27,
     "metadata": {},
     "output_type": "execute_result"
    }
   ],
   "source": [
    "alumina3state.defined"
   ]
  },
  {
   "cell_type": "code",
   "execution_count": 28,
   "id": "cfebbecd-817b-40c6-a0f3-c9093fb337ab",
   "metadata": {},
   "outputs": [
    {
     "data": {
      "text/plain": [
       "array([[1.  , 0.01, 0.  ],\n",
       "       [0.  , 0.99, 0.  ],\n",
       "       [0.  , 0.  , 1.  ]])"
      ]
     },
     "execution_count": 28,
     "metadata": {},
     "output_type": "execute_result"
    }
   ],
   "source": [
    "alumina3state.F(5)"
   ]
  },
  {
   "cell_type": "code",
   "execution_count": 29,
   "id": "34e2af04-49b2-4c1b-8cbb-56c6f6c94e64",
   "metadata": {},
   "outputs": [
    {
     "data": {
      "text/plain": [
       "array([[-4.62315993e-08,  2.22222222e-02,  0.00000000e+00],\n",
       "       [ 0.00000000e+00,  3.33333333e-02,  0.00000000e+00],\n",
       "       [-1.64690382e-10,  0.00000000e+00,  1.00000000e+00]])"
      ]
     },
     "execution_count": 29,
     "metadata": {},
     "output_type": "execute_result"
    }
   ],
   "source": [
    "alumina3state.B(5)"
   ]
  },
  {
   "cell_type": "code",
   "execution_count": 30,
   "id": "fce79ef9-99a6-4b96-95fe-e51ee9dd0f38",
   "metadata": {},
   "outputs": [
    {
     "data": {
      "text/plain": [
       "array([[5., 0., 0.],\n",
       "       [0., 5., 0.],\n",
       "       [0., 0., 5.]])"
      ]
     },
     "execution_count": 30,
     "metadata": {},
     "output_type": "execute_result"
    }
   ],
   "source": [
    "alumina3state.G(5)"
   ]
  },
  {
   "cell_type": "code",
   "execution_count": 31,
   "id": "808a935d-0bdc-457a-b4b3-eb46c13d87d9",
   "metadata": {},
   "outputs": [],
   "source": [
    "bbcell = CellProperties()"
   ]
  },
  {
   "cell_type": "code",
   "execution_count": 32,
   "id": "79b6c279-32d9-4813-8e31-1023377a3b18",
   "metadata": {},
   "outputs": [
    {
     "data": {
      "text/plain": [
       "2.5"
      ]
     },
     "execution_count": 32,
     "metadata": {},
     "output_type": "execute_result"
    }
   ],
   "source": [
    "bbcell.cAl2O3.value"
   ]
  },
  {
   "cell_type": "code",
   "execution_count": 33,
   "id": "431ff4de-c08b-498e-815f-6b7e495425fe",
   "metadata": {},
   "outputs": [],
   "source": [
    "from Refactor.UKFClass import UKF, ukf_unpack, ukf_zpack"
   ]
  },
  {
   "cell_type": "code",
   "execution_count": 34,
   "id": "e201d607-1908-46e2-a471-e9233026ee7b",
   "metadata": {},
   "outputs": [],
   "source": [
    "UKF3state = UKF(alumina3state, bbcell, x0, 5)"
   ]
  },
  {
   "cell_type": "code",
   "execution_count": 35,
   "id": "ea400236-3830-4977-b867-dd719f0ade28",
   "metadata": {
    "tags": []
   },
   "outputs": [
    {
     "data": {
      "text/plain": [
       "True"
      ]
     },
     "execution_count": 35,
     "metadata": {},
     "output_type": "execute_result"
    }
   ],
   "source": [
    "UKF3state.initialised"
   ]
  },
  {
   "cell_type": "code",
   "execution_count": 36,
   "id": "c3eed3eb-67ac-4d98-81c2-88eee4234d80",
   "metadata": {},
   "outputs": [
    {
     "data": {
      "text/plain": [
       "False"
      ]
     },
     "execution_count": 36,
     "metadata": {},
     "output_type": "execute_result"
    }
   ],
   "source": [
    "UKF3state.update_timestep(5)"
   ]
  },
  {
   "cell_type": "code",
   "execution_count": 37,
   "id": "bc737803-bee7-4bc9-a53a-1e2ed2132a06",
   "metadata": {},
   "outputs": [
    {
     "data": {
      "text/plain": [
       "array([[1.0e-06, 0.0e+00, 0.0e+00],\n",
       "       [0.0e+00, 1.0e-06, 0.0e+00],\n",
       "       [0.0e+00, 0.0e+00, 2.5e-13]])"
      ]
     },
     "execution_count": 37,
     "metadata": {},
     "output_type": "execute_result"
    }
   ],
   "source": [
    "UKF3state.Qm"
   ]
  },
  {
   "cell_type": "code",
   "execution_count": 38,
   "id": "d3b54811-23ce-4d7d-a05b-4ad09ae042c9",
   "metadata": {},
   "outputs": [
    {
     "data": {
      "text/plain": [
       "array([[1.e-06]])"
      ]
     },
     "execution_count": 38,
     "metadata": {},
     "output_type": "execute_result"
    }
   ],
   "source": [
    "UKF3state.Rm"
   ]
  },
  {
   "cell_type": "code",
   "execution_count": 39,
   "id": "b0c44249-6421-4c5b-8b91-ca6040b31b56",
   "metadata": {
    "tags": []
   },
   "outputs": [
    {
     "data": {
      "text/plain": [
       "5"
      ]
     },
     "execution_count": 39,
     "metadata": {},
     "output_type": "execute_result"
    }
   ],
   "source": [
    "UKF3state.dT"
   ]
  },
  {
   "cell_type": "code",
   "execution_count": 40,
   "id": "f545bebd-1b42-437d-8ee9-8b907765ba00",
   "metadata": {},
   "outputs": [],
   "source": [
    "u1 = clone_vector(u0)"
   ]
  },
  {
   "cell_type": "code",
   "execution_count": 41,
   "id": "8361f23e-9311-4d15-854e-362cee5407d5",
   "metadata": {},
   "outputs": [
    {
     "data": {
      "text/plain": [
       "True"
      ]
     },
     "execution_count": 41,
     "metadata": {},
     "output_type": "execute_result"
    }
   ],
   "source": [
    "u1.setvariable('I',126235)"
   ]
  },
  {
   "cell_type": "code",
   "execution_count": 42,
   "id": "ef9548c8-c518-481d-bebd-81043c17867f",
   "metadata": {},
   "outputs": [
    {
     "data": {
      "text/plain": [
       "True"
      ]
     },
     "execution_count": 42,
     "metadata": {},
     "output_type": "execute_result"
    }
   ],
   "source": [
    "u1.setvariable('g',6.8)"
   ]
  },
  {
   "cell_type": "code",
   "execution_count": 43,
   "id": "c487abc2-7db0-40fd-9139-69b28f5629f3",
   "metadata": {},
   "outputs": [
    {
     "data": {
      "text/plain": [
       "True"
      ]
     },
     "execution_count": 43,
     "metadata": {},
     "output_type": "execute_result"
    }
   ],
   "source": [
    "UKF3state.predict_state(u0, 5)"
   ]
  },
  {
   "cell_type": "code",
   "execution_count": 44,
   "id": "d0433149-ce9a-4a12-8a0a-67d0d7a26d97",
   "metadata": {},
   "outputs": [
    {
     "data": {
      "text/plain": [
       "array([[126000.],\n",
       "       [     0.],\n",
       "       [     0.]])"
      ]
     },
     "execution_count": 44,
     "metadata": {},
     "output_type": "execute_result"
    }
   ],
   "source": [
    "UKF3state.uk.vector"
   ]
  },
  {
   "cell_type": "code",
   "execution_count": 45,
   "id": "dfb73c88-950b-4f27-94da-23d56db8be5c",
   "metadata": {},
   "outputs": [
    {
     "data": {
      "text/plain": [
       "array([[1.0101e-04, 9.9000e-07, 0.0000e+00],\n",
       "       [9.9000e-07, 9.9010e-05, 0.0000e+00],\n",
       "       [0.0000e+00, 0.0000e+00, 2.5250e-11]])"
      ]
     },
     "execution_count": 45,
     "metadata": {},
     "output_type": "execute_result"
    }
   ],
   "source": [
    "UKF3state.Ppred"
   ]
  },
  {
   "cell_type": "code",
   "execution_count": 46,
   "id": "929ef8c3-e020-4b5b-921f-2fba9366fefc",
   "metadata": {},
   "outputs": [
    {
     "data": {
      "text/plain": [
       "True"
      ]
     },
     "execution_count": 46,
     "metadata": {},
     "output_type": "execute_result"
    }
   ],
   "source": [
    "UKF3state.predictionflag"
   ]
  },
  {
   "cell_type": "code",
   "execution_count": 47,
   "id": "12f46553-f594-45ee-94a4-3666ba860ae6",
   "metadata": {},
   "outputs": [
    {
     "data": {
      "text/plain": [
       "array([[3.49917482],\n",
       "       [0.495     ],\n",
       "       [2.91927925]])"
      ]
     },
     "execution_count": 47,
     "metadata": {},
     "output_type": "execute_result"
    }
   ],
   "source": [
    "UKF3state.xpred.vector"
   ]
  },
  {
   "cell_type": "code",
   "execution_count": 48,
   "id": "07bbc479-b432-4500-9082-5c58c8294e6b",
   "metadata": {},
   "outputs": [
    {
     "data": {
      "text/plain": [
       "array([[1.e-06]])"
      ]
     },
     "execution_count": 48,
     "metadata": {},
     "output_type": "execute_result"
    }
   ],
   "source": [
    "UKF3state.Rm"
   ]
  },
  {
   "cell_type": "code",
   "execution_count": 49,
   "id": "4a17bc9e-735f-4c45-b6e1-3d8b3c0206b0",
   "metadata": {},
   "outputs": [
    {
     "data": {
      "text/plain": [
       "(True,\n",
       " array([[[3.49917482],\n",
       "         [0.495     ],\n",
       "         [2.91927925]],\n",
       " \n",
       "        [[3.51927556],\n",
       "         [0.49519701],\n",
       "         [2.91927925]],\n",
       " \n",
       "        [[3.47907407],\n",
       "         [0.49480299],\n",
       "         [2.91927925]],\n",
       " \n",
       "        [[3.49917482],\n",
       "         [0.51489978],\n",
       "         [2.91927925]],\n",
       " \n",
       "        [[3.49917482],\n",
       "         [0.47510022],\n",
       "         [2.91927925]],\n",
       " \n",
       "        [[3.49917482],\n",
       "         [0.495     ],\n",
       "         [2.9192893 ]],\n",
       " \n",
       "        [[3.49917482],\n",
       "         [0.495     ],\n",
       "         [2.9192692 ]]]),\n",
       " array([[[0.25 ]],\n",
       " \n",
       "        [[0.125]],\n",
       " \n",
       "        [[0.125]],\n",
       " \n",
       "        [[0.125]],\n",
       " \n",
       "        [[0.125]],\n",
       " \n",
       "        [[0.125]],\n",
       " \n",
       "        [[0.125]]]))"
      ]
     },
     "execution_count": 49,
     "metadata": {},
     "output_type": "execute_result"
    }
   ],
   "source": [
    "UKF3state.ukf_gen_samples()"
   ]
  },
  {
   "cell_type": "code",
   "execution_count": 50,
   "id": "14f45e5d-9e2b-4864-8af6-1cc39530016c",
   "metadata": {},
   "outputs": [],
   "source": [
    "# UKF3state.ukf_eval_samples()"
   ]
  },
  {
   "cell_type": "code",
   "execution_count": 51,
   "id": "cf2418c5-1e87-464d-81be-300caf8bd49c",
   "metadata": {
    "tags": []
   },
   "outputs": [],
   "source": [
    "z1 = clone_vector(z0)"
   ]
  },
  {
   "cell_type": "code",
   "execution_count": 52,
   "id": "50860131-0d36-49d2-8592-e4718a828975",
   "metadata": {},
   "outputs": [
    {
     "data": {
      "text/plain": [
       "True"
      ]
     },
     "execution_count": 52,
     "metadata": {},
     "output_type": "execute_result"
    }
   ],
   "source": [
    "z1.setvariable('Vcell', 4.47010343)"
   ]
  },
  {
   "cell_type": "code",
   "execution_count": 53,
   "id": "5a7bddca-281e-4643-b97d-e05907e16f42",
   "metadata": {},
   "outputs": [
    {
     "data": {
      "text/plain": [
       "array([[4.47010343]])"
      ]
     },
     "execution_count": 53,
     "metadata": {},
     "output_type": "execute_result"
    }
   ],
   "source": [
    "z1.vector"
   ]
  },
  {
   "cell_type": "code",
   "execution_count": 54,
   "id": "8b0d8402-624e-4eaa-9e68-f0e72d98eb88",
   "metadata": {},
   "outputs": [
    {
     "data": {
      "text/plain": [
       "True"
      ]
     },
     "execution_count": 54,
     "metadata": {},
     "output_type": "execute_result"
    }
   ],
   "source": [
    "UKF3state.update_state(z1)"
   ]
  },
  {
   "cell_type": "code",
   "execution_count": 55,
   "id": "09675fb6-0acb-423e-a69e-8d8a60d1cfab",
   "metadata": {},
   "outputs": [
    {
     "data": {
      "text/plain": [
       "array([[[3.49917482],\n",
       "        [0.495     ],\n",
       "        [2.91927925]],\n",
       "\n",
       "       [[3.51927556],\n",
       "        [0.49519701],\n",
       "        [2.91927925]],\n",
       "\n",
       "       [[3.47907407],\n",
       "        [0.49480299],\n",
       "        [2.91927925]],\n",
       "\n",
       "       [[3.49917482],\n",
       "        [0.51489978],\n",
       "        [2.91927925]],\n",
       "\n",
       "       [[3.49917482],\n",
       "        [0.47510022],\n",
       "        [2.91927925]],\n",
       "\n",
       "       [[3.49917482],\n",
       "        [0.495     ],\n",
       "        [2.9192893 ]],\n",
       "\n",
       "       [[3.49917482],\n",
       "        [0.495     ],\n",
       "        [2.9192692 ]]])"
      ]
     },
     "execution_count": 55,
     "metadata": {},
     "output_type": "execute_result"
    }
   ],
   "source": [
    "UKF3state.xpredsamples"
   ]
  },
  {
   "cell_type": "code",
   "execution_count": 56,
   "id": "829f4b5d-3808-4eef-a317-bee931d5f462",
   "metadata": {},
   "outputs": [
    {
     "data": {
      "text/plain": [
       "array([[[4.46784157]],\n",
       "\n",
       "       [[4.467502  ]],\n",
       "\n",
       "       [[4.46819449]],\n",
       "\n",
       "       [[4.46784157]],\n",
       "\n",
       "       [[4.46784157]],\n",
       "\n",
       "       [[4.46784646]],\n",
       "\n",
       "       [[4.46783668]]])"
      ]
     },
     "execution_count": 56,
     "metadata": {},
     "output_type": "execute_result"
    }
   ],
   "source": [
    "UKF3state.zpredsamples"
   ]
  },
  {
   "cell_type": "code",
   "execution_count": 57,
   "id": "58f04b6b-00e4-4807-bfa1-7e1b6f1f8d1a",
   "metadata": {},
   "outputs": [
    {
     "data": {
      "text/plain": [
       "array([[0.00226019]])"
      ]
     },
     "execution_count": 57,
     "metadata": {},
     "output_type": "execute_result"
    }
   ],
   "source": [
    "UKF3state.innov"
   ]
  },
  {
   "cell_type": "code",
   "execution_count": 58,
   "id": "5bfacd76-dfaf-4082-bbb5-018cb59d64f8",
   "metadata": {},
   "outputs": [
    {
     "data": {
      "text/plain": [
       "array([[4.46784324]])"
      ]
     },
     "execution_count": 58,
     "metadata": {},
     "output_type": "execute_result"
    }
   ],
   "source": [
    "UKF3state.zbar"
   ]
  },
  {
   "cell_type": "code",
   "execution_count": 59,
   "id": "07c8efe6-4151-4e25-bc6e-bb41848ecb05",
   "metadata": {},
   "outputs": [
    {
     "data": {
      "text/plain": [
       "array([[2.99857831e-08]])"
      ]
     },
     "execution_count": 59,
     "metadata": {},
     "output_type": "execute_result"
    }
   ],
   "source": [
    "UKF3state.Pzz"
   ]
  },
  {
   "cell_type": "code",
   "execution_count": 60,
   "id": "ce8681ad-b525-4569-adf9-abc65af38162",
   "metadata": {},
   "outputs": [
    {
     "data": {
      "text/plain": [
       "array([[3.4953567 ],\n",
       "       [0.49496258],\n",
       "       [2.91927928]])"
      ]
     },
     "execution_count": 60,
     "metadata": {},
     "output_type": "execute_result"
    }
   ],
   "source": [
    "UKF3state.xest.vector"
   ]
  },
  {
   "cell_type": "code",
   "execution_count": 61,
   "id": "642c9672-553b-47b2-9f81-01d153364ea5",
   "metadata": {},
   "outputs": [
    {
     "data": {
      "text/plain": [
       "array([[1.02998578e-06]])"
      ]
     },
     "execution_count": 61,
     "metadata": {},
     "output_type": "execute_result"
    }
   ],
   "source": [
    "UKF3state.innov_cov"
   ]
  },
  {
   "cell_type": "code",
   "execution_count": 62,
   "id": "47207cfe-e96d-4360-ba57-35bb5dcaf7d9",
   "metadata": {},
   "outputs": [
    {
     "data": {
      "text/plain": [
       "array([[-1.73994725e-06],\n",
       "       [-1.70532401e-08],\n",
       "       [ 1.22857715e-11]])"
      ]
     },
     "execution_count": 62,
     "metadata": {},
     "output_type": "execute_result"
    }
   ],
   "source": [
    "UKF3state.Pxz"
   ]
  },
  {
   "cell_type": "code",
   "execution_count": 63,
   "id": "f8b0f04d-dc40-4ba3-a0e0-9a167c4e7efd",
   "metadata": {},
   "outputs": [
    {
     "data": {
      "text/plain": [
       "array([[-1.68929249e+00],\n",
       "       [-1.65567723e-02],\n",
       "       [ 1.19280981e-05]])"
      ]
     },
     "execution_count": 63,
     "metadata": {},
     "output_type": "execute_result"
    }
   ],
   "source": [
    "UKF3state.Kgain"
   ]
  },
  {
   "cell_type": "code",
   "execution_count": 64,
   "id": "9ff5cf80-75d1-4cf9-8e2a-e218e3dfb080",
   "metadata": {},
   "outputs": [
    {
     "data": {
      "text/plain": [
       "array([[4.47010343]])"
      ]
     },
     "execution_count": 64,
     "metadata": {},
     "output_type": "execute_result"
    }
   ],
   "source": [
    "UKF3state.zk.vector"
   ]
  },
  {
   "cell_type": "code",
   "execution_count": 65,
   "id": "f3acdb74-d2e7-4955-8d33-c826052e418d",
   "metadata": {},
   "outputs": [
    {
     "data": {
      "text/plain": [
       "array([[9.80707202e-05, 9.61192090e-07, 2.07542615e-11],\n",
       "       [9.61192090e-07, 9.90097177e-05, 2.03412720e-13],\n",
       "       [2.07542615e-11, 2.03412720e-13, 2.52498535e-11]])"
      ]
     },
     "execution_count": 65,
     "metadata": {},
     "output_type": "execute_result"
    }
   ],
   "source": [
    "UKF3state.Pest"
   ]
  },
  {
   "cell_type": "code",
   "execution_count": 66,
   "id": "5bf76a65-6237-45da-8db6-8b7e273d1636",
   "metadata": {},
   "outputs": [
    {
     "data": {
      "text/plain": [
       "2.451515527411112e-19"
      ]
     },
     "execution_count": 66,
     "metadata": {},
     "output_type": "execute_result"
    }
   ],
   "source": [
    "UKF3state.determinant"
   ]
  },
  {
   "cell_type": "code",
   "execution_count": 67,
   "id": "a6e29bdf-0288-4b71-9bf5-4d10b6f751cb",
   "metadata": {},
   "outputs": [
    {
     "data": {
      "text/plain": [
       "3944971.9987781206"
      ]
     },
     "execution_count": 67,
     "metadata": {},
     "output_type": "execute_result"
    }
   ],
   "source": [
    "UKF3state.condition_num"
   ]
  },
  {
   "cell_type": "code",
   "execution_count": 68,
   "id": "8d344726-988c-491d-b028-47303f24c011",
   "metadata": {},
   "outputs": [
    {
     "data": {
      "text/plain": [
       "False"
      ]
     },
     "execution_count": 68,
     "metadata": {},
     "output_type": "execute_result"
    }
   ],
   "source": [
    "UKF3state.predictionflag"
   ]
  },
  {
   "cell_type": "code",
   "execution_count": 69,
   "id": "b46cf3b1-270d-4e17-a93a-7cf587681fb7",
   "metadata": {},
   "outputs": [],
   "source": [
    "fred = list(x0.dictionary.keys())"
   ]
  },
  {
   "cell_type": "code",
   "execution_count": 70,
   "id": "96f1d716-31af-4cf9-b69e-8c02e3109312",
   "metadata": {},
   "outputs": [
    {
     "data": {
      "text/plain": [
       "'cAl2O3'"
      ]
     },
     "execution_count": 70,
     "metadata": {},
     "output_type": "execute_result"
    }
   ],
   "source": [
    "fred[0]"
   ]
  },
  {
   "cell_type": "code",
   "execution_count": 71,
   "id": "8996dc58-e48c-47db-865d-c013a50b5bb3",
   "metadata": {},
   "outputs": [
    {
     "data": {
      "text/plain": [
       "'Simulation of state variable cAl2O3 (wt%)'"
      ]
     },
     "execution_count": 71,
     "metadata": {},
     "output_type": "execute_result"
    }
   ],
   "source": [
    "f'Simulation of state variable {fred[0]} (wt%)'\n",
    "    "
   ]
  },
  {
   "cell_type": "code",
   "execution_count": 72,
   "id": "920330bd-b6c1-441c-b9c6-f05cbbb8c6ee",
   "metadata": {},
   "outputs": [],
   "source": [
    "from Refactor.Simulation import sim_nofeeding, plot_xsim, sim_observation, plot_zsim"
   ]
  },
  {
   "cell_type": "code",
   "execution_count": 73,
   "id": "d6df83e0-3a93-4f45-831d-c12d21e09418",
   "metadata": {},
   "outputs": [
    {
     "data": {
      "image/png": "[encoded data removed]",
      "text/plain": [
       "<Figure size 432x288 with 1 Axes>"
      ]
     },
     "metadata": {
      "needs_background": "light"
     },
     "output_type": "display_data"
    },
    {
     "data": {
      "image/png": "[encoded data removed]",
      "text/plain": [
       "<Figure size 432x288 with 1 Axes>"
      ]
     },
     "metadata": {
      "needs_background": "light"
     },
     "output_type": "display_data"
    },
    {
     "data": {
      "image/png": "[encoded data removed]",
      "text/plain": [
       "<Figure size 432x288 with 1 Axes>"
      ]
     },
     "metadata": {
      "needs_background": "light"
     },
     "output_type": "display_data"
    }
   ],
   "source": [
    "x, u = sim_nofeeding(5, 240, bbcell, alumina3state, u0, x0, Istd=100.0, plotresult=True)"
   ]
  },
  {
   "cell_type": "code",
   "execution_count": 74,
   "id": "64507867-8527-41d1-8d86-81421fb6d743",
   "metadata": {},
   "outputs": [
    {
     "data": {
      "image/png": "[encoded data removed]",
      "text/plain": [
       "<Figure size 432x288 with 1 Axes>"
      ]
     },
     "metadata": {
      "needs_background": "light"
     },
     "output_type": "display_data"
    }
   ],
   "source": [
    "z = sim_observation(5, x, u, bbcell, alumina3state, plotresult=True)"
   ]
  },
  {
   "cell_type": "code",
   "execution_count": null,
   "id": "ca978223-1fdb-4235-8d4e-6b55319d7464",
   "metadata": {},
   "outputs": [],
   "source": []
  }
 ],
 "metadata": {
  "kernelspec": {
   "display_name": "Python 3",
   "language": "python",
   "name": "python3"
  },
  "language_info": {
   "codemirror_mode": {
    "name": "ipython",
    "version": 3
   },
   "file_extension": ".py",
   "mimetype": "text/x-python",
   "name": "python",
   "nbconvert_exporter": "python",
   "pygments_lexer": "ipython3",
   "version": "3.8.8"
  }
 },
 "nbformat": 4,
 "nbformat_minor": 5
}
