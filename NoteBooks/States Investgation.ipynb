{
 "cells": [
  {
   "cell_type": "code",
   "execution_count": 2,
   "id": "2b68bb2a-4cb5-4120-9562-c60da9d192e8",
   "metadata": {},
   "outputs": [],
   "source": [
    "import numpy as np"
   ]
  },
  {
   "cell_type": "code",
   "execution_count": 5,
   "id": "c9e2e462-e2ab-4150-8f19-9db345e6ba95",
   "metadata": {},
   "outputs": [
    {
     "data": {
      "text/plain": [
       "{'cAl2O3': 3.5, 'deltag': 0.0, 'ACD': 2.97, 'deltaI': 100.0}"
      ]
     },
     "execution_count": 5,
     "metadata": {},
     "output_type": "execute_result"
    }
   ],
   "source": [
    "statevars = {'cAl2O3' : 3.5, 'deltag' : 0.0, 'ACD': 2.97, 'deltaI': 100.0}\n",
    "statevars"
   ]
  },
  {
   "cell_type": "code",
   "execution_count": 6,
   "id": "fbd1fb42-766f-4413-8b35-ad43ed4c5941",
   "metadata": {},
   "outputs": [
    {
     "data": {
      "text/plain": [
       "array([[  3.5 ],\n",
       "       [  0.  ],\n",
       "       [  2.97],\n",
       "       [100.  ]])"
      ]
     },
     "execution_count": 6,
     "metadata": {},
     "output_type": "execute_result"
    }
   ],
   "source": [
    "x = np.array([[statevars['cAl2O3']], [statevars['deltag']], [statevars['ACD']], [statevars['deltaI']]])\n",
    "x"
   ]
  },
  {
   "cell_type": "code",
   "execution_count": 7,
   "id": "4e559f6d-b621-4e51-b46a-2b77ff6a4f11",
   "metadata": {},
   "outputs": [
    {
     "data": {
      "text/plain": [
       "{'cAl2O3': 0, 'deltag': 1, 'ACD': 2, 'deltaI': 3}"
      ]
     },
     "execution_count": 7,
     "metadata": {},
     "output_type": "execute_result"
    }
   ],
   "source": [
    "stateindex = {'cAl2O3' : 0, 'deltag' : 1, 'ACD': 2, 'deltaI': 3}\n",
    "stateindex"
   ]
  },
  {
   "cell_type": "code",
   "execution_count": 8,
   "id": "ebd1101e-50d8-42e7-83c6-4bc706162db8",
   "metadata": {},
   "outputs": [
    {
     "data": {
      "text/plain": [
       "array([3.5])"
      ]
     },
     "execution_count": 8,
     "metadata": {},
     "output_type": "execute_result"
    }
   ],
   "source": [
    "x[stateindex['cAl2O3']]"
   ]
  },
  {
   "cell_type": "code",
   "execution_count": 9,
   "id": "1ebb7acd-6d66-4142-8442-6d3d2671446a",
   "metadata": {},
   "outputs": [
    {
     "name": "stderr",
     "output_type": "stream",
     "text": [
      "<ipython-input-9-67853547430b>:1: DeprecationWarning: np.asscalar(a) is deprecated since NumPy v1.16, use a.item() instead\n",
      "  np.asscalar(x[stateindex['cAl2O3']])\n"
     ]
    },
    {
     "data": {
      "text/plain": [
       "3.5"
      ]
     },
     "execution_count": 9,
     "metadata": {},
     "output_type": "execute_result"
    }
   ],
   "source": [
    "np.asscalar(x[stateindex['cAl2O3']])"
   ]
  },
  {
   "cell_type": "code",
   "execution_count": 10,
   "id": "3a1c1f7d-23db-479d-a4a5-6a234fb58c35",
   "metadata": {},
   "outputs": [
    {
     "data": {
      "text/plain": [
       "3.5"
      ]
     },
     "execution_count": 10,
     "metadata": {},
     "output_type": "execute_result"
    }
   ],
   "source": [
    "x.item(stateindex['cAl2O3'])"
   ]
  },
  {
   "cell_type": "code",
   "execution_count": 3,
   "id": "d2661920-61b3-4d11-9dac-f82f8e5846d9",
   "metadata": {},
   "outputs": [],
   "source": [
    "def A(dt, const, dtlinear):\n",
    "    return const + dtlinear*dt"
   ]
  },
  {
   "cell_type": "code",
   "execution_count": 12,
   "id": "54e22d79-95c8-480a-9056-910f313f6139",
   "metadata": {},
   "outputs": [],
   "source": [
    "Am =A(5, np.array([[1, 2], [3, 4]]), np.array([[0, 0], [0, 1]]))"
   ]
  },
  {
   "cell_type": "code",
   "execution_count": 13,
   "id": "53458626-0cf4-4a83-85dd-7bbf951cd4ce",
   "metadata": {},
   "outputs": [
    {
     "data": {
      "text/plain": [
       "(2, 2)"
      ]
     },
     "execution_count": 13,
     "metadata": {},
     "output_type": "execute_result"
    }
   ],
   "source": [
    "np.shape(Am)"
   ]
  },
  {
   "cell_type": "code",
   "execution_count": 15,
   "id": "635c2779-c1b9-4361-b928-2661da2b0a05",
   "metadata": {},
   "outputs": [],
   "source": [
    "def deltat(carray, dt=0, dtarray=0):\n",
    "    if (dt==0) or (dtarray.any() is False):\n",
    "        return carray\n",
    "    else:\n",
    "        return carray + dtarray*dt"
   ]
  },
  {
   "cell_type": "code",
   "execution_count": 5,
   "id": "bb68f259-c05c-4096-a654-9c161cbbd9f4",
   "metadata": {},
   "outputs": [
    {
     "data": {
      "text/plain": [
       "array([[1, 2],\n",
       "       [3, 4]])"
      ]
     },
     "execution_count": 5,
     "metadata": {},
     "output_type": "execute_result"
    }
   ],
   "source": [
    "deltat(np.array([[1, 2], [3, 4]]))"
   ]
  },
  {
   "cell_type": "code",
   "execution_count": 6,
   "id": "26d79ece-a661-409b-b7fd-2564ae1c6cd9",
   "metadata": {},
   "outputs": [
    {
     "data": {
      "text/plain": [
       "array([[1, 2],\n",
       "       [3, 4]])"
      ]
     },
     "execution_count": 6,
     "metadata": {},
     "output_type": "execute_result"
    }
   ],
   "source": [
    "deltat(np.array([[1, 2], [3, 4]]), 0)"
   ]
  },
  {
   "cell_type": "code",
   "execution_count": 7,
   "id": "919920b7-8bb3-469e-9fd8-8590ef7b11d9",
   "metadata": {},
   "outputs": [
    {
     "data": {
      "text/plain": [
       "array([[1, 2],\n",
       "       [3, 9]])"
      ]
     },
     "execution_count": 7,
     "metadata": {},
     "output_type": "execute_result"
    }
   ],
   "source": [
    "deltat(np.array([[1, 2], [3, 4]]), 5, np.array([[0, 0], [0, 1]]))"
   ]
  },
  {
   "cell_type": "code",
   "execution_count": 8,
   "id": "85b976df-26c9-4b29-a7ff-6630d1348203",
   "metadata": {},
   "outputs": [
    {
     "data": {
      "text/plain": [
       "array([[1, 2],\n",
       "       [3, 4]])"
      ]
     },
     "execution_count": 8,
     "metadata": {},
     "output_type": "execute_result"
    }
   ],
   "source": [
    "A1 = np.array([[1, 2], [3, 4]])\n",
    "A1"
   ]
  },
  {
   "cell_type": "code",
   "execution_count": 19,
   "id": "8ab2ae1d-b9f7-4754-b5f2-fa20d20db5b5",
   "metadata": {},
   "outputs": [
    {
     "data": {
      "text/plain": [
       "array([[0, 0],\n",
       "       [0, 1]])"
      ]
     },
     "execution_count": 19,
     "metadata": {},
     "output_type": "execute_result"
    }
   ],
   "source": [
    "DT = 0\n",
    "D1 = np.array([[0, 0], [0, 1]])\n",
    "D1"
   ]
  },
  {
   "cell_type": "code",
   "execution_count": 20,
   "id": "e5188ef6-adc5-4667-95b7-68d09b7097ee",
   "metadata": {},
   "outputs": [
    {
     "data": {
      "text/plain": [
       "array([[1, 2],\n",
       "       [3, 4]])"
      ]
     },
     "execution_count": 20,
     "metadata": {},
     "output_type": "execute_result"
    }
   ],
   "source": [
    "deltat(A1, DT, D1)"
   ]
  },
  {
   "cell_type": "code",
   "execution_count": 67,
   "id": "8c47aea2-66b6-48da-99b1-282e56a74521",
   "metadata": {},
   "outputs": [],
   "source": [
    "def createvector(**keywords):\n",
    "    vectordict = {}\n",
    "    vector = np.array([])\n",
    "    index = -1\n",
    "    for key in keywords:\n",
    "        index +=1\n",
    "        vectordict[key] = index\n",
    "        appended = np.array([keywords[key]])\n",
    "        if index == 0:\n",
    "            vector = appended\n",
    "        else:\n",
    "            vector = np.vstack([vector, appended])\n",
    "    return vectordict, vector\n",
    "    "
   ]
  },
  {
   "cell_type": "code",
   "execution_count": 68,
   "id": "c8f971bc-452a-46c7-808e-26e51672ca43",
   "metadata": {},
   "outputs": [
    {
     "data": {
      "text/plain": [
       "({'cAl2O3': 0, 'deltag': 1, 'ACD': 2, 'deltaI': 3},\n",
       " array([[  3.5 ],\n",
       "        [  0.1 ],\n",
       "        [  2.93],\n",
       "        [100.  ]]))"
      ]
     },
     "execution_count": 68,
     "metadata": {},
     "output_type": "execute_result"
    }
   ],
   "source": [
    "createvector(cAl2O3= 3.5, deltag = 0.1, ACD = 2.93, deltaI=100.0)"
   ]
  },
  {
   "cell_type": "code",
   "execution_count": 70,
   "id": "fb16057a-2808-4705-9416-3c7814c122dc",
   "metadata": {},
   "outputs": [],
   "source": [
    "statelookup, statevector = createvector(cAl2O3= 3.5, deltag = 0.1, ACD = 2.93, deltaI=100.0)"
   ]
  },
  {
   "cell_type": "code",
   "execution_count": 71,
   "id": "878cc11e-089c-4933-aa43-41d67a62ada6",
   "metadata": {},
   "outputs": [],
   "source": [
    "inputlookup, inputvector = createvector(g0 = 0.0, b0= 0.0, I0 = 126000.0)"
   ]
  },
  {
   "cell_type": "code",
   "execution_count": 72,
   "id": "84dd38a9-cae5-4bb6-9978-608969dda35d",
   "metadata": {},
   "outputs": [
    {
     "data": {
      "text/plain": [
       "{'cAl2O3': 0, 'deltag': 1, 'ACD': 2, 'deltaI': 3}"
      ]
     },
     "execution_count": 72,
     "metadata": {},
     "output_type": "execute_result"
    }
   ],
   "source": [
    "statelookup"
   ]
  },
  {
   "cell_type": "code",
   "execution_count": 73,
   "id": "1061f0bb-8ed8-4077-9cbc-265ac0f42974",
   "metadata": {},
   "outputs": [
    {
     "data": {
      "text/plain": [
       "{'g0': 0, 'b0': 1, 'I0': 2}"
      ]
     },
     "execution_count": 73,
     "metadata": {},
     "output_type": "execute_result"
    }
   ],
   "source": [
    "inputlookup"
   ]
  },
  {
   "cell_type": "code",
   "execution_count": 74,
   "id": "11f5ad52-8af3-4996-b8b6-dac1c345c082",
   "metadata": {},
   "outputs": [
    {
     "data": {
      "text/plain": [
       "array([[  3.5 ],\n",
       "       [  0.1 ],\n",
       "       [  2.93],\n",
       "       [100.  ]])"
      ]
     },
     "execution_count": 74,
     "metadata": {},
     "output_type": "execute_result"
    }
   ],
   "source": [
    "statevector"
   ]
  },
  {
   "cell_type": "code",
   "execution_count": 77,
   "id": "67a5d5c0-426a-43c8-8513-b5cfbb30e1ac",
   "metadata": {},
   "outputs": [
    {
     "data": {
      "text/plain": [
       "3.5"
      ]
     },
     "execution_count": 77,
     "metadata": {},
     "output_type": "execute_result"
    }
   ],
   "source": [
    "statevector[statelookup['cAl2O3']].item()"
   ]
  },
  {
   "cell_type": "code",
   "execution_count": 78,
   "id": "09141c7a-2e68-4a52-9d1c-57c3f5856f90",
   "metadata": {},
   "outputs": [
    {
     "data": {
      "text/plain": [
       "array([[     0.],\n",
       "       [     0.],\n",
       "       [126000.]])"
      ]
     },
     "execution_count": 78,
     "metadata": {},
     "output_type": "execute_result"
    }
   ],
   "source": [
    "inputvector"
   ]
  },
  {
   "cell_type": "code",
   "execution_count": 80,
   "id": "362b1b46-1cf0-44e3-b03a-6ae43e0b492f",
   "metadata": {},
   "outputs": [
    {
     "data": {
      "text/plain": [
       "126000.0"
      ]
     },
     "execution_count": 80,
     "metadata": {},
     "output_type": "execute_result"
    }
   ],
   "source": [
    "inputvector[inputlookup['I0']].item()"
   ]
  },
  {
   "cell_type": "code",
   "execution_count": 29,
   "id": "266f6e35-d2cb-4a58-a793-5d436bbbdc28",
   "metadata": {},
   "outputs": [
    {
     "data": {
      "text/plain": [
       "array([[[0., 0., 0., 0.],\n",
       "        [0., 0., 0., 0.],\n",
       "        [0., 0., 0., 0.],\n",
       "        [0., 0., 0., 0.]],\n",
       "\n",
       "       [[0., 0., 0., 0.],\n",
       "        [0., 0., 0., 0.],\n",
       "        [0., 0., 0., 0.],\n",
       "        [0., 0., 0., 0.]],\n",
       "\n",
       "       [[0., 0., 0., 0.],\n",
       "        [0., 0., 0., 0.],\n",
       "        [0., 0., 0., 0.],\n",
       "        [0., 0., 0., 0.]]])"
      ]
     },
     "execution_count": 29,
     "metadata": {},
     "output_type": "execute_result"
    }
   ],
   "source": [
    "a = np.zeros((3, 4, 4), float)\n",
    "a"
   ]
  },
  {
   "cell_type": "code",
   "execution_count": 32,
   "id": "f8ae6c2b-d3f5-4b57-a8cc-077a3846f29f",
   "metadata": {},
   "outputs": [
    {
     "data": {
      "text/plain": [
       "array([[[ 1.3,  1.3,  1.3,  1.3],\n",
       "        [ 1.3,  1.3,  1.3,  1.3],\n",
       "        [ 1.3,  1.3,  1.3,  1.3],\n",
       "        [ 1.3,  1.3,  1.3,  1.3]],\n",
       "\n",
       "       [[ 0. ,  1. ,  2. ,  3. ],\n",
       "        [ 4. ,  5. ,  6. ,  7. ],\n",
       "        [ 8. ,  9. , 10. , 11. ],\n",
       "        [12. , 13. , 14. , 15. ]],\n",
       "\n",
       "       [[-0. , -0.1, -0.2, -0.3],\n",
       "        [-0.4, -0.5, -0.6, -0.7],\n",
       "        [-0.8, -0.9, -1. , -1.1],\n",
       "        [-1.2, -1.3, -1.4, -1.5]]])"
      ]
     },
     "execution_count": 32,
     "metadata": {},
     "output_type": "execute_result"
    }
   ],
   "source": [
    "a[0] = 1.3\n",
    "a[1] = np.arange(16).reshape(4,4)\n",
    "a[2] = np.arange(16).reshape(4,4)/(-10)\n",
    "a"
   ]
  },
  {
   "cell_type": "code",
   "execution_count": 33,
   "id": "5f02d4dd-011a-434c-8fec-12096c82baef",
   "metadata": {},
   "outputs": [
    {
     "data": {
      "text/plain": [
       "(3, 4, 4)"
      ]
     },
     "execution_count": 33,
     "metadata": {},
     "output_type": "execute_result"
    }
   ],
   "source": [
    "dims = np.shape(a)\n",
    "dims"
   ]
  },
  {
   "cell_type": "code",
   "execution_count": 34,
   "id": "a6327811-07f5-446a-b197-76c0b4d5f95b",
   "metadata": {},
   "outputs": [
    {
     "name": "stdout",
     "output_type": "stream",
     "text": [
      "[[1.3 1.3 1.3 1.3]\n",
      " [1.3 1.3 1.3 1.3]\n",
      " [1.3 1.3 1.3 1.3]\n",
      " [1.3 1.3 1.3 1.3]]\n",
      "[[ 1.3  3.3  5.3  7.3]\n",
      " [ 9.3 11.3 13.3 15.3]\n",
      " [17.3 19.3 21.3 23.3]\n",
      " [25.3 27.3 29.3 31.3]]\n",
      "[[ 1.3  2.9  4.5  6.1]\n",
      " [ 7.7  9.3 10.9 12.5]\n",
      " [14.1 15.7 17.3 18.9]\n",
      " [20.5 22.1 23.7 25.3]]\n"
     ]
    },
    {
     "data": {
      "text/plain": [
       "array([[ 1.3,  2.9,  4.5,  6.1],\n",
       "       [ 7.7,  9.3, 10.9, 12.5],\n",
       "       [14.1, 15.7, 17.3, 18.9],\n",
       "       [20.5, 22.1, 23.7, 25.3]])"
      ]
     },
     "execution_count": 34,
     "metadata": {},
     "output_type": "execute_result"
    }
   ],
   "source": [
    "A = np.zeros_like(a[0], dtype=float)\n",
    "dt = 2\n",
    "for index in range(dims[0]):\n",
    "    A = A + a[index]*(dt**index)\n",
    "    print(A)\n",
    "A"
   ]
  },
  {
   "cell_type": "code",
   "execution_count": null,
   "id": "48596b0f-0948-4a69-9221-be4cb4e46e3a",
   "metadata": {},
   "outputs": [],
   "source": []
  }
 ],
 "metadata": {
  "kernelspec": {
   "display_name": "Python 3",
   "language": "python",
   "name": "python3"
  },
  "language_info": {
   "codemirror_mode": {
    "name": "ipython",
    "version": 3
   },
   "file_extension": ".py",
   "mimetype": "text/x-python",
   "name": "python",
   "nbconvert_exporter": "python",
   "pygments_lexer": "ipython3",
   "version": "3.8.8"
  }
 },
 "nbformat": 4,
 "nbformat_minor": 5
}
