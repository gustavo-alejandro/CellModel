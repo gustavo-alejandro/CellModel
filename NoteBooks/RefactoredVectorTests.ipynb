{
 "cells": [
  {
   "cell_type": "code",
   "execution_count": 1,
   "id": "0485aab8-b4cd-410e-83aa-ab18c917966a",
   "metadata": {},
   "outputs": [],
   "source": [
    "import numpy as np"
   ]
  },
  {
   "cell_type": "code",
   "execution_count": 2,
   "id": "20f7ac6a-b74f-43d7-849a-7732edf93ba0",
   "metadata": {},
   "outputs": [
    {
     "data": {
      "text/plain": [
       "'C:\\\\Python Files\\\\AluminaConcEstimator\\\\NoteBooks'"
      ]
     },
     "execution_count": 2,
     "metadata": {},
     "output_type": "execute_result"
    }
   ],
   "source": [
    "pwd"
   ]
  },
  {
   "cell_type": "code",
   "execution_count": 3,
   "id": "9f7927eb-92ef-4a5e-83d5-262e18ddcb1e",
   "metadata": {},
   "outputs": [],
   "source": [
    "import sys\n",
    "sys.path.append('../')"
   ]
  },
  {
   "cell_type": "code",
   "execution_count": 4,
   "id": "6447fbd3-a65b-445d-b80f-00121de221a3",
   "metadata": {},
   "outputs": [],
   "source": [
    "from Refactor.Model import VariableVector"
   ]
  },
  {
   "cell_type": "code",
   "execution_count": 5,
   "id": "defea60c-7c7b-4c3a-9a1d-9605801298fb",
   "metadata": {},
   "outputs": [],
   "source": [
    "# Create a State Vector Variables\n",
    "States = VariableVector(cAl2O3=3.5, deltag=0, ACD= 2.93, deltaI=0)"
   ]
  },
  {
   "cell_type": "code",
   "execution_count": 6,
   "id": "e1604939-8dda-4cd2-b4ef-07f0746e2f4f",
   "metadata": {},
   "outputs": [
    {
     "data": {
      "text/plain": [
       "array([[3.5 ],\n",
       "       [0.  ],\n",
       "       [2.93],\n",
       "       [0.  ]])"
      ]
     },
     "execution_count": 6,
     "metadata": {},
     "output_type": "execute_result"
    }
   ],
   "source": [
    "# View the vector\n",
    "States.vector"
   ]
  },
  {
   "cell_type": "code",
   "execution_count": 7,
   "id": "4ec28f7a-d200-4ed8-bd3b-3394dff5c421",
   "metadata": {},
   "outputs": [
    {
     "data": {
      "text/plain": [
       "{'cAl2O3': 0, 'deltag': 1, 'ACD': 2, 'deltaI': 3}"
      ]
     },
     "execution_count": 7,
     "metadata": {},
     "output_type": "execute_result"
    }
   ],
   "source": [
    "# View its dictionary/definition\n",
    "States.dictionary"
   ]
  },
  {
   "cell_type": "code",
   "execution_count": 8,
   "id": "bc412d11-8fa3-45fe-ae63-e67388c57532",
   "metadata": {},
   "outputs": [
    {
     "data": {
      "text/plain": [
       "2.93"
      ]
     },
     "execution_count": 8,
     "metadata": {},
     "output_type": "execute_result"
    }
   ],
   "source": [
    "# View a variable using the dictionary\n",
    "States.variable('ACD')"
   ]
  },
  {
   "cell_type": "code",
   "execution_count": 9,
   "id": "4c240032-bcb8-41f7-9149-c6aef6051075",
   "metadata": {},
   "outputs": [
    {
     "data": {
      "text/plain": [
       "3.03"
      ]
     },
     "execution_count": 9,
     "metadata": {},
     "output_type": "execute_result"
    }
   ],
   "source": [
    "# edit a single variable in the vector\n",
    "States.setvariable('cAl2O3', 3.03)\n",
    "States.variable('cAl2O3')"
   ]
  },
  {
   "cell_type": "code",
   "execution_count": 10,
   "id": "029c6240-276c-491e-a145-f211c4682b2d",
   "metadata": {},
   "outputs": [],
   "source": [
    "from Refactor.Model import ControlMatrix"
   ]
  },
  {
   "cell_type": "code",
   "execution_count": 11,
   "id": "275eb239-0b6d-4743-a244-9ba641208cb5",
   "metadata": {},
   "outputs": [
    {
     "data": {
      "text/plain": [
       "array([[0., 0., 0.],\n",
       "       [0., 0., 0.],\n",
       "       [0., 0., 0.],\n",
       "       [0., 0., 0.]])"
      ]
     },
     "execution_count": 11,
     "metadata": {},
     "output_type": "execute_result"
    }
   ],
   "source": [
    "CM = ControlMatrix(4,3,1)\n",
    "CM.array(1)"
   ]
  },
  {
   "cell_type": "code",
   "execution_count": 12,
   "id": "de6319ab-de04-4431-bc3b-65ed4401a30e",
   "metadata": {},
   "outputs": [
    {
     "data": {
      "text/plain": [
       "array([[[0., 0., 0.],\n",
       "        [0., 0., 0.],\n",
       "        [0., 0., 0.],\n",
       "        [0., 0., 0.]],\n",
       "\n",
       "       [[0., 0., 0.],\n",
       "        [0., 0., 0.],\n",
       "        [0., 0., 0.],\n",
       "        [0., 0., 0.]]])"
      ]
     },
     "execution_count": 12,
     "metadata": {},
     "output_type": "execute_result"
    }
   ],
   "source": [
    "CM._array"
   ]
  },
  {
   "cell_type": "code",
   "execution_count": 13,
   "id": "2ef90602-dbdf-4889-a563-d34f0d917f7f",
   "metadata": {},
   "outputs": [
    {
     "data": {
      "text/plain": [
       "True"
      ]
     },
     "execution_count": 13,
     "metadata": {},
     "output_type": "execute_result"
    }
   ],
   "source": [
    "CM.setarray(0, np.ones((4,3)))"
   ]
  },
  {
   "cell_type": "code",
   "execution_count": 14,
   "id": "4db8e45f-dcd6-4957-9b36-8a4cc83ec6ac",
   "metadata": {},
   "outputs": [
    {
     "data": {
      "text/plain": [
       "True"
      ]
     },
     "execution_count": 14,
     "metadata": {},
     "output_type": "execute_result"
    }
   ],
   "source": [
    "CM.setarray(1, np.ones((4,3))*2)"
   ]
  },
  {
   "cell_type": "code",
   "execution_count": 15,
   "id": "5f524bf0-44d1-422c-b7a7-316b0e7ca038",
   "metadata": {},
   "outputs": [
    {
     "data": {
      "text/plain": [
       "array([[3., 3., 3.],\n",
       "       [3., 3., 3.],\n",
       "       [3., 3., 3.],\n",
       "       [3., 3., 3.]])"
      ]
     },
     "execution_count": 15,
     "metadata": {},
     "output_type": "execute_result"
    }
   ],
   "source": [
    "CM.array(1)"
   ]
  },
  {
   "cell_type": "code",
   "execution_count": 16,
   "id": "1e6c611b-36ae-4591-a8fa-9ac2947bd20e",
   "metadata": {},
   "outputs": [
    {
     "name": "stdout",
     "output_type": "stream",
     "text": [
      "Wrong Shape\n"
     ]
    },
    {
     "data": {
      "text/plain": [
       "False"
      ]
     },
     "execution_count": 16,
     "metadata": {},
     "output_type": "execute_result"
    }
   ],
   "source": [
    "CM.setarray(1, np.ones((3,4)))"
   ]
  },
  {
   "cell_type": "code",
   "execution_count": 17,
   "id": "8ea412f7-c8b6-4224-a6c7-63d8d4779204",
   "metadata": {},
   "outputs": [
    {
     "name": "stdout",
     "output_type": "stream",
     "text": [
      "Wrong Order\n"
     ]
    },
    {
     "data": {
      "text/plain": [
       "False"
      ]
     },
     "execution_count": 17,
     "metadata": {},
     "output_type": "execute_result"
    }
   ],
   "source": [
    "CM.setarray(2, np.ones((4,3)))"
   ]
  },
  {
   "cell_type": "code",
   "execution_count": 18,
   "id": "6e16a350-d737-4423-9a2a-ddc098eb81a1",
   "metadata": {},
   "outputs": [
    {
     "data": {
      "text/plain": [
       "2"
      ]
     },
     "execution_count": 18,
     "metadata": {},
     "output_type": "execute_result"
    }
   ],
   "source": [
    "np.shape(CM._array)[0]"
   ]
  },
  {
   "cell_type": "code",
   "execution_count": null,
   "id": "ad62a951-6375-455e-af6e-3210cf93330a",
   "metadata": {},
   "outputs": [],
   "source": []
  }
 ],
 "metadata": {
  "kernelspec": {
   "display_name": "Python 3",
   "language": "python",
   "name": "python3"
  },
  "language_info": {
   "codemirror_mode": {
    "name": "ipython",
    "version": 3
   },
   "file_extension": ".py",
   "mimetype": "text/x-python",
   "name": "python",
   "nbconvert_exporter": "python",
   "pygments_lexer": "ipython3",
   "version": "3.8.8"
  }
 },
 "nbformat": 4,
 "nbformat_minor": 5
}
